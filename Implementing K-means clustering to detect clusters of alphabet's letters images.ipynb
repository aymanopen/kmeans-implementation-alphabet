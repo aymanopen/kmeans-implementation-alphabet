{
 "cells": [
  {
   "cell_type": "markdown",
   "metadata": {},
   "source": [
    "### Implementing K-means clustering to detect clusters of alphabet's letters images"
   ]
  },
  {
   "cell_type": "code",
   "execution_count": 1,
   "metadata": {
    "collapsed": true
   },
   "outputs": [],
   "source": [
    "from copy import deepcopy\n",
    "from numpy import linalg as LA"
   ]
  },
  {
   "cell_type": "code",
   "execution_count": 2,
   "metadata": {},
   "outputs": [
    {
     "name": "stdout",
     "output_type": "stream",
     "text": [
      "6  sec.\n",
      "time for getting the sorted matrix  6.085453033447266  sec.\n"
     ]
    }
   ],
   "source": [
    "\n",
    "from packages_alphabet_detect.assignment3 import *\n",
    "from collections import Counter\n",
    "\n",
    "#alphabets, where each index from 0 to 25, for example alphabet[0]=a,...etc\n",
    "alphabet=list(map(chr, range(97, 123)))\n",
    "\n",
    "#clusters\n",
    "c=26\n",
    "\n",
    "\n",
    "#get all images, where each image is saved as: [pixels dimensions, alphabet letter index, image name]\n",
    "# note I save the image name to be able to identify the \n",
    "datapoints=get_images(alphabet)\n",
    "\n",
    "timea=time.time()\n",
    "alldistances_sorted=getDistancesMatrixSorted(datapoints)\n",
    "print(\"time for getting the sorted matrix \",time.time()-timea,\" sec.\")\n",
    "allindicies=getAllIndicies(datapoints,alphabet)"
   ]
  },
  {
   "cell_type": "code",
   "execution_count": 3,
   "metadata": {
    "collapsed": true
   },
   "outputs": [],
   "source": [
    "def isinnearestX(currentpnt,alldistances,currfurthest,c):\n",
    "\n",
    "    nthnearest=int(len(datapoints)/c)+1\n",
    "    # get the nearest 182 /26 = 7 neighbors (+1 as the same point is already included compared to itself in the list)\n",
    "    nearest7pnts=alldistances[currentpnt][:nthnearest]\n",
    "    \n",
    "    for i in nearest7pnts:\n",
    "        #check if the current furthest is not in the nearest 7 points to any of the previously selected c centers\n",
    "        if currfurthest == i[1]:\n",
    "            #print (i,currfurthest)\n",
    "            return True\n",
    "    #print(\"return false\")\n",
    "    return False"
   ]
  },
  {
   "cell_type": "code",
   "execution_count": 4,
   "metadata": {
    "collapsed": true
   },
   "outputs": [],
   "source": [
    "#eligible means not already chosen, and not even in the nearest 7 (7 is the length of the total array divided by k=26) neighbors to any of the already choosen points, +1 as the same point is already included compared to itself in the list\n",
    "\n",
    "def eligible(currentpnt,indicies_chosen,alldistances,currfurthest):\n",
    "    if temp_furthest in indicies_chosen:\n",
    "        return False\n",
    "    else:\n",
    "        for chosenelem in indicies_chosen:\n",
    "            if isinnearestX(chosenelem,alldistances,currfurthest,c):\n",
    "                return False\n",
    "    return True\n"
   ]
  },
  {
   "cell_type": "code",
   "execution_count": 5,
   "metadata": {},
   "outputs": [
    {
     "name": "stdout",
     "output_type": "stream",
     "text": [
      "time 4 initial indicies with less conditions start 0.006927490234375\n"
     ]
    }
   ],
   "source": [
    "timeb=time.time()\n",
    "\n",
    "indicies_choosen2=[]\n",
    "randindex=random.randint(0,len(datapoints))\n",
    "#randindex=5\n",
    "indicies_choosen2.append(randindex)\n",
    "temp_furthest=alldistances_sorted[randindex][-1][1]\n",
    "nomeans=False\n",
    "for f in range(25):\n",
    "    lastpoint=indicies_choosen2[-1]\n",
    "    foundafurthest=False\n",
    "    index=-1\n",
    "    temp_furthest=alldistances_sorted[lastpoint][index][1]\n",
    "\n",
    "    while (not foundafurthest) :\n",
    "        #eligible means not already chosen, and not even in the nearest 7 (7 is the length of the total array divided by k=26) neighbors to any of the already choosen points\n",
    "        if eligible(lastpoint,indicies_choosen2,alldistances_sorted,temp_furthest):\n",
    "            foundafurthest=True\n",
    "            indicies_choosen2.append(temp_furthest)\n",
    "        else:\n",
    "            index-=1\n",
    "            if (index>-182):\n",
    "                temp_furthest=alldistances_sorted[lastpoint][index][1]\n",
    "            else:\n",
    "                print(\"Couldn't find means satisfying this condition, decrease nearest X\")\n",
    "                nomeans=True\n",
    "                break\n",
    "            continue\n",
    "    \n",
    "    if nomeans:\n",
    "        break\n",
    "if not nomeans:\n",
    "    print(\"time 4 initial indicies with less conditions start\", time.time()-timeb)    \n",
    "                \n",
    "\n",
    "\n"
   ]
  },
  {
   "cell_type": "code",
   "execution_count": null,
   "metadata": {
    "collapsed": true
   },
   "outputs": [],
   "source": []
  },
  {
   "cell_type": "code",
   "execution_count": 6,
   "metadata": {
    "collapsed": true
   },
   "outputs": [],
   "source": [
    "def calc_den(point_index,mean1_idx,Means):\n",
    "    den=0\n",
    "    for x in range(len(Means)):\n",
    "        \n",
    "        down=(distanceCal(datapoints[point_index][0],Means[x]))**2\n",
    "\n",
    "        upper=(distanceCal(datapoints[point_index][0],Means[mean1_idx]))**2\n",
    "\n",
    "        temp_var=(upper/ down)\n",
    "        #print(temp_var)\n",
    "        den+=((temp_var)**(1/(q-1)))\n",
    "    return den"
   ]
  },
  {
   "cell_type": "code",
   "execution_count": 7,
   "metadata": {
    "collapsed": true
   },
   "outputs": [],
   "source": [
    "def newrnk_func(Means):\n",
    "    rnk=[]\n",
    "    for n in range(len(datapoints)):\n",
    "        tempk_arr=[]\n",
    "        for k in range(26):\n",
    "            rval=1/(calc_den(n,k,Means))\n",
    "            tempk_arr.append(rval)\n",
    "        rnk.append(tempk_arr)\n",
    "    return rnk"
   ]
  },
  {
   "cell_type": "code",
   "execution_count": 8,
   "metadata": {
    "collapsed": true,
    "scrolled": true
   },
   "outputs": [],
   "source": [
    "def newMeans_func(rnk,training):\n",
    "    means=[]\n",
    "    for k in range(26):\n",
    "        numerator1=((rnk[0][k]**q)*np.matrix(training[0][0]))\n",
    "        for i in range(1,len(training)):\n",
    "            numerator1+=((rnk[i][k])**q)*np.matrix(training[i][0])\n",
    "        denemenator1=rnk[0][k]**q\n",
    "        for i in range(1,len(training)):\n",
    "            denemenator1+=(rnk[i][k]**q)\n",
    "        means.append(list(np.array(numerator1/denemenator1)[0]))\n",
    "    return means"
   ]
  },
  {
   "cell_type": "code",
   "execution_count": 9,
   "metadata": {
    "scrolled": false
   },
   "outputs": [
    {
     "name": "stdout",
     "output_type": "stream",
     "text": [
      "0.424644772097\n",
      "0.3456452709\n",
      "0.165468466869\n",
      "0.0273771204602\n",
      "-0.013863191905\n",
      "-0.0108613002164\n",
      "-0.00562958040031\n",
      "-0.00299620484711\n",
      "-0.00164576039425\n",
      "-0.000780109302175\n",
      "-0.000382971712067\n",
      "-0.000197982156517\n",
      "-0.000101910363413\n",
      "-5.25330283986e-05\n",
      "-2.77281346625e-05\n",
      "-1.42008404152e-05\n",
      "-7.01651313007e-06\n",
      "time for geting rnk,  17.18779998222987  mins\n",
      "in  17  rounds\n"
     ]
    }
   ],
   "source": [
    "q=1.25\n",
    "converged=False\n",
    "Means=[]\n",
    "timef=time.time()\n",
    "for i in indicies_choosen2:\n",
    "    withnoise=[x + y for x, y in zip(datapoints[i][0], [0.1]*len(datapoints[i][0]))]\n",
    "    Means.append(withnoise)\n",
    "#print(np.shape(Means))\n",
    "count=0\n",
    "while not converged:\n",
    "    count+=1\n",
    "    \n",
    "    newrnk=newrnk_func(Means)\n",
    "    #print (np.shape(Means))\n",
    "    newMeans=newMeans_func(newrnk,datapoints)\n",
    "    avgdiffmeans=(np.array(newMeans)-np.array(Means)).mean()\n",
    "    Means=deepcopy(newMeans)\n",
    "    print (avgdiffmeans)\n",
    "    if abs(avgdiffmeans)<(1/100000):\n",
    "        converged=True\n",
    "#newrnk=newrnk_func(Means)\n",
    "print (\"time for geting rnk, \", (time.time()-timef)/60,\" mins\")\n",
    "print(\"in \",count,\" rounds\")"
   ]
  },
  {
   "cell_type": "code",
   "execution_count": 10,
   "metadata": {
    "collapsed": true,
    "scrolled": true
   },
   "outputs": [],
   "source": [
    "belongings=[]\n",
    "for idx,t in enumerate(newrnk):\n",
    "    largestindex=-1\n",
    "    largestval=0\n",
    "    for i,x in enumerate(t):\n",
    "        if x>largestval:\n",
    "            largestindex=i\n",
    "            largestval=x\n",
    "    \n",
    "    belongings.append(largestindex+1)\n",
    "    "
   ]
  },
  {
   "cell_type": "code",
   "execution_count": 11,
   "metadata": {
    "collapsed": true
   },
   "outputs": [],
   "source": [
    "belongings_num=[]\n",
    "for idx,t in enumerate(newrnk):\n",
    "    largestindex=-1\n",
    "    largestval=0\n",
    "    for i,x in enumerate(t):\n",
    "        if x>largestval:\n",
    "            largestindex=i\n",
    "            largestval=x\n",
    "    \n",
    "    belongings_num.append([largestindex+1,datapoints[idx][2]])\n",
    "    "
   ]
  },
  {
   "cell_type": "code",
   "execution_count": 12,
   "metadata": {
    "collapsed": true,
    "scrolled": true
   },
   "outputs": [],
   "source": [
    "countincluster=[]\n",
    "for i in range(1,27):\n",
    "    countincluster.append(belongings.count(i))\n",
    "    #print(\"cluster \",i,\": \",belongings.count(i),\" points in it.\")"
   ]
  },
  {
   "cell_type": "code",
   "execution_count": 13,
   "metadata": {
    "scrolled": true
   },
   "outputs": [
    {
     "data": {
      "image/png": "[encoded data removed]",
      "text/plain": [
       "<matplotlib.figure.Figure at 0x7fca043efda0>"
      ]
     },
     "metadata": {},
     "output_type": "display_data"
    }
   ],
   "source": [
    "import matplotlib.pyplot as plt\n",
    "\n",
    "plt.figure(figsize=(18,6))\n",
    "plt.bar((range(1,27)),countincluster)\n",
    "plt.xticks(range(1,27),range(1,27))\n",
    "#plt.savefig('Accuracy.jpg')\n",
    "plt.show()"
   ]
  },
  {
   "cell_type": "code",
   "execution_count": 14,
   "metadata": {
    "collapsed": true
   },
   "outputs": [],
   "source": [
    "sorted_clusters_images=sorted(belongings_num,key=lambda x:x[0])\n",
    "#sorted_clusters_images"
   ]
  },
  {
   "cell_type": "code",
   "execution_count": 15,
   "metadata": {},
   "outputs": [
    {
     "name": "stdout",
     "output_type": "stream",
     "text": [
      "Cluster  1  has: ['A1l3.jpg', 'A1l7.jpg', 'A1l4.jpg', 'A1l1.jpg', 'A1l6.jpg', 'A1l5.jpg', 'A1l2.jpg']\n",
      "Cluster  2  has: ['A1j2.jpg', 'A1j4.jpg', 'A1j7.jpg', 'A1j3.jpg', 'A1j5.jpg', 'A1j1.jpg', 'A1j6.jpg']\n",
      "Cluster  3  has: ['A1r3.jpg', 'A1r6.jpg', 'A1r4.jpg', 'A1r5.jpg', 'A1r1.jpg', 'A1r2.jpg', 'A1r7.jpg']\n",
      "Cluster  4  has: ['A1d6.jpg', 'A1d4.jpg', 'A1d1.jpg', 'A1d5.jpg', 'A1d7.jpg', 'A1d2.jpg', 'A1d3.jpg']\n",
      "Cluster  5  has: ['A1t1.jpg', 'A1t7.jpg', 'A1t2.jpg', 'A1t5.jpg', 'A1t4.jpg', 'A1t6.jpg', 'A1t3.jpg']\n",
      "Cluster  6  has: ['A1o1.jpg', 'A1o6.jpg', 'A1o2.jpg', 'A1o5.jpg', 'A1o3.jpg', 'A1o4.jpg', 'A1o7.jpg']\n",
      "Cluster  7  has: ['A1i2.jpg', 'A1i4.jpg', 'A1i1.jpg', 'A1i5.jpg', 'A1i6.jpg', 'A1i3.jpg', 'A1i7.jpg']\n",
      "Cluster  8  has: ['A1u3.jpg', 'A1u2.jpg', 'A1u1.jpg', 'A1u5.jpg', 'A1u4.jpg']\n",
      "Cluster  9  has: ['A1f3.jpg', 'A1f2.jpg', 'A1f6.jpg', 'A1f1.jpg', 'A1f7.jpg', 'A1f4.jpg', 'A1f5.jpg']\n",
      "Cluster  10  has: ['A1q7.jpg', 'A1q4.jpg', 'A1q5.jpg', 'A1q2.jpg', 'A1q6.jpg', 'A1q1.jpg', 'A1q3.jpg']\n",
      "Cluster  11  has: ['A1y7.jpg', 'A1y5.jpg', 'A1y3.jpg', 'A1y6.jpg', 'A1y4.jpg', 'A1y2.jpg', 'A1y1.jpg']\n",
      "Cluster  12  has: ['A1e4.jpg', 'A1e1.jpg', 'A1e7.jpg', 'A1e2.jpg', 'A1e5.jpg', 'A1e3.jpg', 'A1e6.jpg']\n",
      "Cluster  13  has: ['A1x6.jpg', 'A1x4.jpg', 'A1x3.jpg', 'A1x1.jpg', 'A1x2.jpg', 'A1x7.jpg', 'A1x5.jpg']\n",
      "Cluster  14  has: ['A1b4.jpg', 'A1h7.jpg', 'A1h1.jpg', 'A1h2.jpg']\n",
      "Cluster  15  has: ['A1v1.jpg', 'A1v6.jpg', 'A1v2.jpg', 'A1v5.jpg', 'A1v7.jpg', 'A1v3.jpg', 'A1v4.jpg']\n",
      "Cluster  16  has: ['A1m2.jpg', 'A1m4.jpg', 'A1m1.jpg', 'A1m3.jpg', 'A1m7.jpg', 'A1m5.jpg', 'A1m6.jpg']\n",
      "Cluster  17  has: ['A1b3.jpg', 'A1b6.jpg', 'A1b2.jpg', 'A1b7.jpg', 'A1b1.jpg', 'A1b5.jpg', 'A1h4.jpg', 'A1h3.jpg', 'A1h5.jpg', 'A1h6.jpg']\n",
      "Cluster  18  has: ['A1z6.jpg', 'A1z3.jpg', 'A1z4.jpg', 'A1z5.jpg', 'A1z1.jpg', 'A1z2.jpg', 'A1z7.jpg']\n",
      "Cluster  19  has: ['A1p3.jpg', 'A1p4.jpg', 'A1p1.jpg', 'A1p2.jpg', 'A1p7.jpg', 'A1p6.jpg', 'A1p5.jpg']\n",
      "Cluster  20  has: ['A1a2.jpg', 'A1a3.jpg', 'A1a6.jpg', 'A1a7.jpg', 'A1a5.jpg', 'A1a4.jpg', 'A1a1.jpg']\n",
      "Cluster  21  has: ['A1c5.jpg', 'A1c6.jpg', 'A1c7.jpg', 'A1c4.jpg', 'A1c1.jpg', 'A1c2.jpg', 'A1c3.jpg']\n",
      "Cluster  22  has: ['A1s5.jpg', 'A1s1.jpg', 'A1s7.jpg', 'A1s3.jpg', 'A1s2.jpg', 'A1s6.jpg', 'A1s4.jpg']\n",
      "Cluster  23  has: ['A1k5.jpg', 'A1k1.jpg', 'A1k2.jpg', 'A1k4.jpg', 'A1k7.jpg', 'A1k6.jpg', 'A1k3.jpg']\n",
      "Cluster  24  has: ['A1g4.jpg', 'A1g5.jpg', 'A1g3.jpg', 'A1g2.jpg', 'A1g6.jpg', 'A1g1.jpg', 'A1g7.jpg']\n",
      "Cluster  25  has: ['A1w7.jpg', 'A1w3.jpg', 'A1w2.jpg', 'A1w1.jpg', 'A1w5.jpg', 'A1w6.jpg', 'A1w4.jpg']\n",
      "Cluster  26  has: ['A1n3.jpg', 'A1n2.jpg', 'A1n1.jpg', 'A1n6.jpg', 'A1n7.jpg', 'A1n4.jpg', 'A1n5.jpg', 'A1u6.jpg', 'A1u7.jpg']\n"
     ]
    }
   ],
   "source": [
    "clusters=[]\n",
    "for i in range(1,27):\n",
    "    cluster_x_images=[]\n",
    "    for x in sorted_clusters_images:\n",
    "        if x[0]==i:\n",
    "            cluster_x_images.append(x[1])\n",
    "    print(\"Cluster \", i,\" has:\", cluster_x_images)\n",
    "    clusters.append(cluster_x_images)"
   ]
  },
  {
   "cell_type": "code",
   "execution_count": 16,
   "metadata": {
    "collapsed": true
   },
   "outputs": [],
   "source": [
    "#problem with u\n",
    "\n",
    "#problem with h\n",
    "\n",
    "\n"
   ]
  },
  {
   "cell_type": "code",
   "execution_count": 19,
   "metadata": {
    "collapsed": true
   },
   "outputs": [],
   "source": [
    "tempclust=[]\n",
    "for cluster in clusters:\n",
    "    temp2=[]\n",
    "    for letter in cluster:\n",
    "        temp2.append(letter[2])\n",
    "    tempclust.append(temp2)"
   ]
  },
  {
   "cell_type": "code",
   "execution_count": 20,
   "metadata": {},
   "outputs": [
    {
     "data": {
      "text/plain": [
       "[['l', 'l', 'l', 'l', 'l', 'l', 'l'],\n",
       " ['j', 'j', 'j', 'j', 'j', 'j', 'j'],\n",
       " ['r', 'r', 'r', 'r', 'r', 'r', 'r'],\n",
       " ['d', 'd', 'd', 'd', 'd', 'd', 'd'],\n",
       " ['t', 't', 't', 't', 't', 't', 't'],\n",
       " ['o', 'o', 'o', 'o', 'o', 'o', 'o'],\n",
       " ['i', 'i', 'i', 'i', 'i', 'i', 'i'],\n",
       " ['u', 'u', 'u', 'u', 'u'],\n",
       " ['f', 'f', 'f', 'f', 'f', 'f', 'f'],\n",
       " ['q', 'q', 'q', 'q', 'q', 'q', 'q'],\n",
       " ['y', 'y', 'y', 'y', 'y', 'y', 'y'],\n",
       " ['e', 'e', 'e', 'e', 'e', 'e', 'e'],\n",
       " ['x', 'x', 'x', 'x', 'x', 'x', 'x'],\n",
       " ['b', 'h', 'h', 'h'],\n",
       " ['v', 'v', 'v', 'v', 'v', 'v', 'v'],\n",
       " ['m', 'm', 'm', 'm', 'm', 'm', 'm'],\n",
       " ['b', 'b', 'b', 'b', 'b', 'b', 'h', 'h', 'h', 'h'],\n",
       " ['z', 'z', 'z', 'z', 'z', 'z', 'z'],\n",
       " ['p', 'p', 'p', 'p', 'p', 'p', 'p'],\n",
       " ['a', 'a', 'a', 'a', 'a', 'a', 'a'],\n",
       " ['c', 'c', 'c', 'c', 'c', 'c', 'c'],\n",
       " ['s', 's', 's', 's', 's', 's', 's'],\n",
       " ['k', 'k', 'k', 'k', 'k', 'k', 'k'],\n",
       " ['g', 'g', 'g', 'g', 'g', 'g', 'g'],\n",
       " ['w', 'w', 'w', 'w', 'w', 'w', 'w'],\n",
       " ['n', 'n', 'n', 'n', 'n', 'n', 'n', 'u', 'u']]"
      ]
     },
     "execution_count": 20,
     "metadata": {},
     "output_type": "execute_result"
    }
   ],
   "source": [
    "tempclust"
   ]
  },
  {
   "cell_type": "code",
   "execution_count": 21,
   "metadata": {},
   "outputs": [
    {
     "name": "stdout",
     "output_type": "stream",
     "text": [
      "[('l', 7)]\n",
      "[('j', 7)]\n",
      "[('r', 7)]\n",
      "[('d', 7)]\n",
      "[('t', 7)]\n",
      "[('o', 7)]\n",
      "[('i', 7)]\n",
      "[('u', 5)]\n",
      "[('f', 7)]\n",
      "[('q', 7)]\n",
      "[('y', 7)]\n",
      "[('e', 7)]\n",
      "[('x', 7)]\n",
      "[('h', 3), ('b', 1)]\n",
      "[('v', 7)]\n",
      "[('m', 7)]\n",
      "[('b', 6), ('h', 4)]\n",
      "[('z', 7)]\n",
      "[('p', 7)]\n",
      "[('a', 7)]\n",
      "[('c', 7)]\n",
      "[('s', 7)]\n",
      "[('k', 7)]\n",
      "[('g', 7)]\n",
      "[('w', 7)]\n",
      "[('n', 7), ('u', 2)]\n"
     ]
    }
   ],
   "source": [
    "from collections import Counter\n",
    "\n",
    "for elem in tempclust:\n",
    "    data = Counter(elem)\n",
    "    print(data.most_common())"
   ]
  },
  {
   "cell_type": "code",
   "execution_count": 22,
   "metadata": {},
   "outputs": [
    {
     "name": "stdout",
     "output_type": "stream",
     "text": [
      "All correct except b and h are seen as similar, also 2 letters from u and n \n"
     ]
    }
   ],
   "source": [
    "print(\"All correct except b and h are seen as similar, also 2 letters from u and n \")"
   ]
  }
 ],
 "metadata": {
  "kernelspec": {
   "display_name": "Python 3",
   "language": "python",
   "name": "python3"
  },
  "language_info": {
   "codemirror_mode": {
    "name": "ipython",
    "version": 3
   },
   "file_extension": ".py",
   "mimetype": "text/x-python",
   "name": "python",
   "nbconvert_exporter": "python",
   "pygments_lexer": "ipython3",
   "version": "3.6.2"
  }
 },
 "nbformat": 4,
 "nbformat_minor": 2
}
